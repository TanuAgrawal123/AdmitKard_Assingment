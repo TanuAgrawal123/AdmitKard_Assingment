{
 "cells": [
  {
   "cell_type": "markdown",
   "metadata": {},
   "source": [
    "## Problem statement 2 \n",
    "### Python Code with TC=O(log(n)) and SC=O(1)\n",
    "#### takes O(1) time for finding the sum and log(sum) time for finding the reverse"
   ]
  },
  {
   "cell_type": "code",
   "execution_count": 17,
   "metadata": {},
   "outputs": [
    {
     "name": "stdout",
     "output_type": "stream",
     "text": [
      "Enter value of X\n",
      "3\n",
      "Enter value of Y\n",
      "5\n",
      "Enter value of N\n",
      "10\n",
      "sum of no =23\n",
      "reverse of no = 32\n"
     ]
    }
   ],
   "source": [
    "print(\"Enter value of X\")\n",
    "X=int(input())\n",
    "print(\"Enter value of Y\")\n",
    "Y=int(input())\n",
    "print(\"Enter value of N\")\n",
    "N=int(input())\n",
    "res=0\n",
    "\n",
    "if X>=N and Y>=N:\n",
    "    print(\"sum of number=0\")\n",
    "    print(\"reverse =0\")\n",
    "else:\n",
    "    \n",
    "    if X<N:\n",
    "        # finding sum of multiple of X less than N\n",
    "        m=(N-1)//X\n",
    "        sm1=m*(m+1)//2\n",
    "        res+=(X*sm1)\n",
    "    if Y<N:\n",
    "        # finding sum of multiple of Y less than N\n",
    "        m=(N-1)//Y\n",
    "        sm2=m*(m+1)//2\n",
    "        res+=(Y*sm2)\n",
    "      # to remove duplicacy\n",
    "    if (X<N and Y<N):\n",
    "       # if X and Y are factor of each other remove all mutiple sum of reater no \n",
    "        if Y%X==0 or X%Y==0:\n",
    "            if Y>=X:\n",
    "                res-=Y*sm2\n",
    "            else:\n",
    "                res-=X*sm1\n",
    "        # if X and Y are not factor of each other then remove multiple of X*Y<N\n",
    "        elif X*Y<N:\n",
    "            m=(N-1)//(X*Y)\n",
    "            sm3=m*(m+1)//2\n",
    "            res-=(X*Y)*sm3\n",
    "            \n",
    "        \n",
    "        \n",
    "        \n",
    "    # resultant sum\n",
    "    print(\"sum of no =\"+str(res))\n",
    "    rev=0\n",
    "    # reversing the sum\n",
    "    while(res>0):\n",
    "        n=res%10\n",
    "        rev=rev*10+n\n",
    "        res=res//10\n",
    "    # resultant reverse no\n",
    "    print(\"reverse of no = \" +str(rev))\n",
    "    \n",
    "                \n",
    "         \n",
    "\n",
    "    "
   ]
  },
  {
   "cell_type": "code",
   "execution_count": null,
   "metadata": {},
   "outputs": [],
   "source": []
  }
 ],
 "metadata": {
  "kernelspec": {
   "display_name": "Python 3",
   "language": "python",
   "name": "python3"
  },
  "language_info": {
   "codemirror_mode": {
    "name": "ipython",
    "version": 3
   },
   "file_extension": ".py",
   "mimetype": "text/x-python",
   "name": "python",
   "nbconvert_exporter": "python",
   "pygments_lexer": "ipython3",
   "version": "3.8.3"
  }
 },
 "nbformat": 4,
 "nbformat_minor": 4
}
